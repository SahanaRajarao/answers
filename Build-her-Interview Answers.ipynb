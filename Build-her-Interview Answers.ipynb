{
 "cells": [
  {
   "cell_type": "markdown",
   "id": "311d0af7",
   "metadata": {},
   "source": [
    "Easy 1\n",
    "Given a string s consisting of words and spaces, return the length of the last word in the string.\n",
    "A word is a maximal \n",
    "substring consisting of non-space characters only."
   ]
  },
  {
   "cell_type": "code",
   "execution_count": 10,
   "id": "a5f21f5f",
   "metadata": {},
   "outputs": [],
   "source": [
    "class Solution:\n",
    "  def lengthOfLastWord(self, s: str) -> int:\n",
    "    s=\"Hello world!!\"\n",
    "    i = len(s) - 1\n",
    "\n",
    "    while i >= 0 and s[i] == ' ':\n",
    "      i -= 1\n",
    "    \n",
    "    lastIndex = i\n",
    "    while i >= 0 and s[i] != ' ':\n",
    "      i -= 1\n",
    "\n",
    "    return lastIndex - i\n",
    "    print(lastIndex)"
   ]
  },
  {
   "cell_type": "code",
   "execution_count": null,
   "id": "237eaa19",
   "metadata": {},
   "outputs": [],
   "source": []
  },
  {
   "cell_type": "code",
   "execution_count": 11,
   "id": "7d2330b6",
   "metadata": {},
   "outputs": [],
   "source": []
  },
  {
   "cell_type": "markdown",
   "id": "0a3463c1",
   "metadata": {},
   "source": [
    "Medium 2 \n",
    "Given an integer array of size n, find all elements that appear more than ⌊ n/3 ⌋ times. "
   ]
  },
  {
   "cell_type": "code",
   "execution_count": 12,
   "id": "53ec32c7",
   "metadata": {},
   "outputs": [
    {
     "name": "stdout",
     "output_type": "stream",
     "text": [
      "The majority elements are: 11 33 \n"
     ]
    }
   ],
   "source": [
    "from typing import List\n",
    "\n",
    "def majorityElement(v: List[int]) -> List[int]:\n",
    "    n = len(v) \n",
    "\n",
    "    cnt1, cnt2 = 0, 0 # counts\n",
    "    el1, el2 = float('-inf'), float('-inf')\n",
    "\n",
    "    # applying the Extended Boyer Moore’s Voting Algorithm:\n",
    "    for i in range(n):\n",
    "        if cnt1 == 0 and el2 != v[i]:\n",
    "            cnt1 = 1\n",
    "            el1 = v[i]\n",
    "        elif cnt2 == 0 and el1 != v[i]:\n",
    "            cnt2 = 1\n",
    "            el2 = v[i]\n",
    "        elif v[i] == el1:\n",
    "            cnt1 += 1\n",
    "        elif v[i] == el2:\n",
    "            cnt2 += 1\n",
    "        else:\n",
    "            cnt1 -= 1\n",
    "            cnt2 -= 1\n",
    "\n",
    "    ls = [] \n",
    "\n",
    "    cnt1, cnt2 = 0, 0\n",
    "    for i in range(n):\n",
    "        if v[i] == el1:\n",
    "            cnt1 += 1\n",
    "        if v[i] == el2:\n",
    "            cnt2 += 1\n",
    "\n",
    "    mini = int(n / 3) + 1\n",
    "    if cnt1 >= mini:\n",
    "        ls.append(el1)\n",
    "    if cnt2 >= mini:\n",
    "        ls.append(el2)\n",
    "\n",
    "    return ls\n",
    "\n",
    "arr = [11, 33, 33, 11, 33, 11]\n",
    "ans = majorityElement(arr)\n",
    "print(\"The majority elements are: \", end=\"\")\n",
    "for it in ans:\n",
    "    print(it, end=\" \")\n",
    "print()\n",
    "\n"
   ]
  },
  {
   "cell_type": "markdown",
   "id": "7230400d",
   "metadata": {},
   "source": [
    "Hard 2 \n",
    "You are given a string s. You can convert s to a \n",
    "palindrome by adding characters in front of it.\n",
    "Return the shortest palindrome you can find by performing this transformation."
   ]
  },
  {
   "cell_type": "code",
   "execution_count": 14,
   "id": "c54051d2",
   "metadata": {},
   "outputs": [],
   "source": [
    "class Solution(object):\n",
    "    def shortestPalindrome(self, s):\n",
    "        prefix_idx = 0 \n",
    "        for i in range(len(s)-1, -1, -1):\n",
    "            if s[i] == s[prefix_idx ]:\n",
    "                prefix_idx  += 1\n",
    "\n",
    "        if prefix_idx == len(s):\n",
    "            return s\n",
    "\n",
    "        suffix = s[prefix_idx:]\n",
    "        return suffix[::-1] + self.shortestPalindrome(s[:prefix_idx]) + suffix\n"
   ]
  },
  {
   "cell_type": "code",
   "execution_count": null,
   "id": "e35decd1",
   "metadata": {},
   "outputs": [],
   "source": []
  }
 ],
 "metadata": {
  "kernelspec": {
   "display_name": "Python 3 (ipykernel)",
   "language": "python",
   "name": "python3"
  },
  "language_info": {
   "codemirror_mode": {
    "name": "ipython",
    "version": 3
   },
   "file_extension": ".py",
   "mimetype": "text/x-python",
   "name": "python",
   "nbconvert_exporter": "python",
   "pygments_lexer": "ipython3",
   "version": "3.9.12"
  }
 },
 "nbformat": 4,
 "nbformat_minor": 5
}
